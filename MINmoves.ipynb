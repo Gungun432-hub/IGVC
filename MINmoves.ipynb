{
  "nbformat": 4,
  "nbformat_minor": 0,
  "metadata": {
    "colab": {
      "provenance": []
    },
    "kernelspec": {
      "name": "python3",
      "display_name": "Python 3"
    },
    "language_info": {
      "name": "python"
    }
  },
  "cells": [
    {
      "cell_type": "code",
      "execution_count": 1,
      "metadata": {
        "id": "mZGNYPlPpWdk"
      },
      "outputs": [],
      "source": [
        "import numpy as np\n",
        "from collections import deque\n",
        "import heapq"
      ]
    },
    {
      "cell_type": "code",
      "source": [
        "class State:\n",
        "    def __init__(self, position, speed, direction, moves=0, parent=None, visited_directions=None):\n",
        "      self.position = position  # (row, col)\n",
        "      self.speed = speed        # Current speed\n",
        "      self.direction = direction  # 0: right, 1: down, 2: left, 3: up\n",
        "      self.moves = moves        # Number of moves taken\n",
        "      self.parent = parent      # Parent state for path reconstruction\n",
        "      self.visited_directions = visited_directions or set()  # Directions visited so far\n",
        "    def __lt__(self, other):\n",
        "      return self.moves < other.moves\n",
        "\n",
        "    def __eq__(self, other):\n",
        "      return (self.position == other.position and\n",
        "              self.speed == other.speed and\n",
        "              self.direction == other.direction and\n",
        "              self.visited_directions == other.visited_directions)\n",
        "    def __hash__(self):\n",
        "      return hash((self.position, self.speed, self.direction, frozenset(self.visited_directions)))\n"
      ],
      "metadata": {
        "id": "nxaEXJPisiIp"
      },
      "execution_count": 2,
      "outputs": []
    },
    {
      "cell_type": "code",
      "source": [
        "def parse_matrix():\n",
        "  matrix = [\n",
        "       [1, 1, 1, 1, 1, 1, 1, 1, 1, 1],\n",
        "       [1, 0, 0, 0, 0, 0, 0, 0, 0, 1],\n",
        "       [1, 0, 0, 2, 0, 0, 0, 0, 0, 1],\n",
        "       [1, 0, 0, 0, 0, 0, 0, 0, 2, 1],\n",
        "       [1, 2, 0, 0, 1, 1, 1, 0, 0, 1],\n",
        "       [1, 0, 0, 0, 1, 1, 1, 0, 0, 1],\n",
        "       [1, 3, 0, 0, 1, 1, 1, 0, 0, 1],\n",
        "       [1, 0, 0, 0, 1, 1, 2, 2, 0, 1],\n",
        "       [1, 0, 0, 0, 1, 1, 0, 0, 0, 1],\n",
        "       [1, 0, 0, 0, 1, 1, 0, 0, 0, 1],\n",
        "       [1, 0, 2, 0, 0, 0, 0, 0, 0, 1],\n",
        "       [1, 0, 0, 0, 0, 0, 2, 0, 0, 1],\n",
        "       [1, 0, 0, 0, 0, 0, 0, 0, 0, 1],\n",
        "       [1, 1, 1, 1, 1, 1, 1, 1, 1, 1]\n",
        "  ]\n",
        "  return np.array(matrix)"
      ],
      "metadata": {
        "id": "i_HT0ln7tsUs"
      },
      "execution_count": 3,
      "outputs": []
    },
    {
      "cell_type": "code",
      "source": [
        "def find_start_position(matrix):\n",
        "  \"\"\"Find and return the starting position marked by 3 in the matrix\"\"\"\n",
        "  start_pos = None\n",
        "  for i in range(len(matrix)):\n",
        "      for j in range(len(matrix[0])):\n",
        "          if matrix[i][j] == 3:\n",
        "              start_pos = (i, j)\n",
        "              # Reset the start position to 0 for path finding\n",
        "              matrix[i][j] = 0\n",
        "              return start_pos\n",
        "  return None\n"
      ],
      "metadata": {
        "id": "6c2FYUL6vGi8"
      },
      "execution_count": 4,
      "outputs": []
    },
    {
      "cell_type": "code",
      "source": [
        "def is_valid_position(matrix, position):\n",
        "    \"\"\"Check if a position is valid (within bounds and not an obstacle or lane)\"\"\"\n",
        "    row, col = position\n",
        "    if (0 <= row < len(matrix) and\n",
        "        0 <= col < len(matrix[0]) and\n",
        "        matrix[row][col] != 1 and\n",
        "        matrix[row][col] != 2):\n",
        "        return True\n",
        "    return False"
      ],
      "metadata": {
        "id": "mB_FswCgvf0l"
      },
      "execution_count": 5,
      "outputs": []
    },
    {
      "cell_type": "code",
      "source": [
        "def is_path_clear(matrix, start_pos, end_pos):\n",
        "    \"\"\"Check if the path from start_pos to end_pos is clear (no obstacles or lane crossings)\"\"\"\n",
        "    start_row, start_col = start_pos\n",
        "    end_row, end_col = end_pos\n",
        "\n",
        "    # Get range of positions to check\n",
        "    min_row, max_row = min(start_row, end_row), max(start_row, end_row)\n",
        "    min_col, max_col = min(start_col, end_col), max(start_col, end_col)\n",
        "\n",
        "    for r in range(min_row, max_row + 1):\n",
        "        for c in range(min_col, max_col + 1):\n",
        "            if matrix[r][c] == 1 or matrix[r][c] == 2:\n",
        "                return False\n",
        "    return True"
      ],
      "metadata": {
        "id": "wDzrOVMvvyKh"
      },
      "execution_count": 6,
      "outputs": []
    },
    {
      "cell_type": "code",
      "source": [
        "def get_next_states(current_state, matrix):\n",
        "    \"\"\"Generate all valid next states from the current state\"\"\"\n",
        "    next_states = []\n",
        "    row, col = current_state.position\n",
        "    speed = current_state.speed\n",
        "    direction = current_state.direction\n",
        "    visited_dirs = current_state.visited_directions.copy()\n",
        "    visited_dirs.add(direction)\n",
        "    # Defining direction vectors (right, down, left, up)\n",
        "    dir_vectors = [(0, 1), (1, 0), (0, -1), (-1, 0)]\n",
        "    current_dir_vector = dir_vectors[direction]\n",
        "    # Case 1: Continue with same direction, adjust speed\n",
        "    for delta_speed in [-1, 0, 1]:\n",
        "        new_speed = speed + delta_speed\n",
        "        if new_speed < 0:\n",
        "            continue\n",
        "        # Applying movement based on direction and speed\n",
        "        new_row = row + current_dir_vector[0] * new_speed\n",
        "        new_col = col + current_dir_vector[1] * new_speed\n",
        "        new_pos = (new_row, new_col)\n",
        "        if is_valid_position(matrix, new_pos) and is_path_clear(matrix, (row, col), new_pos):\n",
        "            next_state = State(new_pos, new_speed, direction,\n",
        "                              current_state.moves + 1, current_state, visited_dirs)\n",
        "            next_states.append(next_state)\n",
        "    # Case 2: If speed is 0 or 1, we can change direction\n",
        "    if speed <= 1:\n",
        "        #  changing direction to the next one clockwise (turn right)\n",
        "        new_direction = (direction + 1) % 4\n",
        "        new_dir_vector = dir_vectors[new_direction]\n",
        "\n",
        "        for new_speed in [0, 1]:\n",
        "            new_row = row + new_dir_vector[0] * new_speed\n",
        "            new_col = col + new_dir_vector[1] * new_speed\n",
        "            new_pos = (new_row, new_col)\n",
        "            if is_valid_position(matrix, new_pos) and is_path_clear(matrix, (row, col), new_pos):\n",
        "                next_state = State(new_pos, new_speed, new_direction,\n",
        "                                  current_state.moves + 1, current_state, visited_dirs)\n",
        "                next_states.append(next_state)\n",
        "\n",
        "    return next_states\n",
        ""
      ],
      "metadata": {
        "id": "79q2WFW1v6F8"
      },
      "execution_count": 8,
      "outputs": []
    },
    {
      "cell_type": "code",
      "source": [
        "def has_completed_clockwise_round(start_pos, current_pos, visited_directions):\n",
        "    \"\"\"Check if we've completed a clockwise round\"\"\"\n",
        "    if start_pos == current_pos and len(visited_directions) >= 4:\n",
        "        # We've visited all 4 directions and returned to start\n",
        "        return True\n",
        "    return False"
      ],
      "metadata": {
        "id": "H1ZepQCo1j6A"
      },
      "execution_count": 9,
      "outputs": []
    },
    {
      "cell_type": "code",
      "source": [
        "def reconstruct_path(final_state, matrix, start_pos):\n",
        "    \"\"\"Reconstruct the path from the final state and mark it on the matrix\"\"\"\n",
        "    path = []\n",
        "    current = final_state\n",
        "\n",
        "    while current is not None:\n",
        "        path.append(current.position)\n",
        "        current = current.parent\n",
        "    path.reverse()\n",
        "    # Creating a result matrix marking the path\n",
        "    result_matrix = matrix.copy()\n",
        "    for pos in path:\n",
        "        result_matrix[pos] = 3\n",
        "\n",
        "    # Ensuring the start position is marked as 3\n",
        "    result_matrix[start_pos] = 3\n",
        "\n",
        "    return result_matrix, len(path) - 1  # -1 because initial position isn't a move\n"
      ],
      "metadata": {
        "id": "7C_6ceEDwMAj"
      },
      "execution_count": 10,
      "outputs": []
    },
    {
      "cell_type": "code",
      "source": [
        "def find_minimum_moves(matrix):\n",
        "    \"\"\"Find the minimum number of moves to complete a clockwise round\"\"\"\n",
        "    # Find start position\n",
        "    start_pos = find_start_position(matrix)\n",
        "    if not start_pos:\n",
        "        print(\"No starting position found!\")\n",
        "        return None, 0\n",
        "    priority_queue = []\n",
        "\n",
        "    # Creating initial state (position, speed=0, direction=0, moves=0)\n",
        "    initial_state = State(start_pos, 0, 0, 0)\n",
        "    heapq.heappush(priority_queue, (0, initial_state))\n",
        "\n",
        "    visited = set()\n",
        "    while priority_queue:\n",
        "        _, current_state = heapq.heappop(priority_queue)\n",
        "\n",
        "        # Skip if we've already visited this state\n",
        "        state_key = (current_state.position, current_state.speed, current_state.direction,\n",
        "                    frozenset(current_state.visited_directions))\n",
        "        if state_key in visited:\n",
        "            continue\n",
        "\n",
        "        visited.add(state_key)\n",
        "\n",
        "        # Checking if we've completed a round and returned to start with speed 0\n",
        "        if (current_state.position == start_pos and\n",
        "            current_state.speed == 0 and\n",
        "            has_completed_clockwise_round(start_pos, current_state.position, current_state.visited_directions)):\n",
        "            return reconstruct_path(current_state, matrix, start_pos)\n",
        "\n",
        "        # to generate next possible states\n",
        "        next_states = get_next_states(current_state, matrix)\n",
        "\n",
        "        for next_state in next_states:\n",
        "            next_key = (next_state.position, next_state.speed, next_state.direction,\n",
        "                       frozenset(next_state.visited_directions))\n",
        "\n",
        "            if next_key not in visited:\n",
        "                # Calculating heuristic: Manhattan distance to start + penalty for high speed\n",
        "                # + penalty for not having visited all directions\n",
        "                dr, dc = abs(next_state.position[0] - start_pos[0]), abs(next_state.position[1] - start_pos[1])\n",
        "                direction_penalty = 4 - len(next_state.visited_directions)\n",
        "                heuristic = dr + dc + next_state.speed + direction_penalty * 2\n",
        "\n",
        "                priority = next_state.moves + heuristic\n",
        "                heapq.heappush(priority_queue, (priority, next_state))\n",
        "\n",
        "    print(\"No solution found!\")\n",
        "    return matrix, 0"
      ],
      "metadata": {
        "id": "-iml-3-N2T3o"
      },
      "execution_count": 11,
      "outputs": []
    },
    {
      "cell_type": "code",
      "source": [
        "def print_matrix(matrix):\n",
        "    \"\"\"Print the matrix in a readable format\"\"\"\n",
        "    for row in matrix:\n",
        "        print(' '.join(map(str, row)))\n",
        "\n",
        "def solve_race_track():\n",
        "    \"\"\"Main function to solve the race track problem\"\"\"\n",
        "    # Load the matrix\n",
        "    matrix = parse_matrix()\n",
        "    print(\"Original Matrix:\")\n",
        "    print_matrix(matrix)\n",
        "    result_matrix, moves = find_minimum_moves(matrix)\n",
        "\n",
        "    print(\"\\nPath Matrix:\")\n",
        "    print_matrix(result_matrix)\n",
        "    print(f\"\\nMinimum number of moves: {moves}\")\n",
        "    return result_matrix"
      ],
      "metadata": {
        "id": "ODdXm-Gw22gl"
      },
      "execution_count": 12,
      "outputs": []
    },
    {
      "cell_type": "code",
      "source": [
        "if __name__ == \"__main__\":\n",
        "    solve_race_track()"
      ],
      "metadata": {
        "colab": {
          "base_uri": "https://localhost:8080/"
        },
        "id": "mx38ypLp280z",
        "outputId": "5221b8d6-9fc7-4688-8b85-f828b578a54e"
      },
      "execution_count": 13,
      "outputs": [
        {
          "output_type": "stream",
          "name": "stdout",
          "text": [
            "Original Matrix:\n",
            "1 1 1 1 1 1 1 1 1 1\n",
            "1 0 0 0 0 0 0 0 0 1\n",
            "1 0 0 2 0 0 0 0 0 1\n",
            "1 0 0 0 0 0 0 0 2 1\n",
            "1 2 0 0 1 1 1 0 0 1\n",
            "1 0 0 0 1 1 1 0 0 1\n",
            "1 3 0 0 1 1 1 0 0 1\n",
            "1 0 0 0 1 1 2 2 0 1\n",
            "1 0 0 0 1 1 0 0 0 1\n",
            "1 0 0 0 1 1 0 0 0 1\n",
            "1 0 2 0 0 0 0 0 0 1\n",
            "1 0 0 0 0 0 2 0 0 1\n",
            "1 0 0 0 0 0 0 0 0 1\n",
            "1 1 1 1 1 1 1 1 1 1\n",
            "\n",
            "Path Matrix:\n",
            "1 1 1 1 1 1 1 1 1 1\n",
            "1 0 0 0 0 0 0 0 0 1\n",
            "1 0 0 2 0 0 0 0 0 1\n",
            "1 0 0 0 0 0 0 0 2 1\n",
            "1 2 0 0 1 1 1 0 0 1\n",
            "1 0 0 0 1 1 1 0 0 1\n",
            "1 3 0 0 1 1 1 0 0 1\n",
            "1 0 0 0 1 1 2 2 0 1\n",
            "1 0 0 0 1 1 0 0 0 1\n",
            "1 0 0 0 1 1 0 0 0 1\n",
            "1 0 2 0 0 0 0 0 0 1\n",
            "1 0 0 0 0 0 2 0 0 1\n",
            "1 0 0 0 0 0 0 0 0 1\n",
            "1 1 1 1 1 1 1 1 1 1\n",
            "\n",
            "Minimum number of moves: 4\n"
          ]
        }
      ]
    }
  ]
}